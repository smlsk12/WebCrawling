{
 "cells": [
  {
   "cell_type": "code",
   "execution_count": null,
   "metadata": {},
   "outputs": [],
   "source": [
    "# 웹 크롤링에 대한 이해\n",
    "# 웹 크롤링은 컴퓨터가 유저대신 \n",
    "# 데이터 열람, 복사, 저장 등의 과정을 진행하는 것이다.\n",
    "# 예매 매크로 프로그램과 유사한 측면이 있으나 \n",
    "# 예매 매크로과 완전히 같은 기능은 없다.\n",
    "\n",
    "# 웹 크롤링엔 크게 정적 크롤링과 동적 크롤링이 있다.\n",
    "\n",
    "# 정적 크롤링: url로 사이트 접근 시 특별한 작업 없이 원하는 데이터 접근가능\n",
    "# 예) 다음뉴스, 다음영화 등\n",
    "\n",
    "# 동적 크롤링: 원하는 데이터 접근 시 유저가 별도의 작업을 해야한다.\n",
    "# 예) 유튜브, 인스타그램 등\n",
    "\n",
    "# 정적 크롤링에 사용되는 라이브러리는 BeautifulSoup 이 있고\n",
    "# 동적 크롤링에 사용되는 라이브러리는 Selenium이 있다."
   ]
  },
  {
   "cell_type": "code",
   "execution_count": 2,
   "metadata": {},
   "outputs": [
    {
     "name": "stdout",
     "output_type": "stream",
     "text": [
      "['한의사들 \"양의계, 특권의식에 빠져 경거망동\"', '\"오늘이 제일 싸네\"…835일만에 7900만원 뚫은 비트코인', '나발니 시신 인도 도운 변호사 \"구금됐다 풀려났다\"', '\"학부모 게임 이해도 높을수록 자녀도 과몰입 경향 낮아\"', '[사이테크+] \"무리 사냥하는 청새치, 서로 다치지 않게 몸 색깔 변화로 신호\"', '방사청, HD현대중공업 입찰 참가 자격 유지', 'Q : 정년 앞두고 후회 많은데 은퇴 우울증 올까봐 걱정[마음상담소]', '\"尹, 외교 주도권마저 잃을 건가? 미국이야말로 국익 앞세운다\"', '아마존 산불 270% 증가…원인은 엘니뇨와 기후변화 [여기는 남미]', '자사주 소각 13.7%…\"밸류업, 갈 길 멀다\"[이슈N전략]', '양향자 \"이준석 출마 지역? 청년 정체성 담은 반도체 벨트로\"[한판승부]', 'HBM 먼저 치고 나온 마이크론, 조용히 웃는 이 종목들 [신인규의 이슈레이더]', '\"비만치료제 우리도 만든다\"…하루만에 주가 \\'폭등\\'', '사직서 낸 병역 미필 전공의…병무청 “퇴직 처리시 내년 3월 입영”', '[영상] “망한 공교육 되돌릴 수 있는 건, 진보 아닌 보수”', '“결혼은 상호 존중으로 인간 존엄성·가치 지키는 과정”', '“美유권자, 정치적 극단주의가 가장 큰 걱정”...바이든에 유리할까', \"[내일날씨] 충청·남부 비나 눈…밤부터 기온 '뚝'\", '\"13주만에 체중 13% 감량\"… 비만치료제 개발 경쟁 가속화', '\"14억 인도인 열망을 우주로\"…인도, 내년 유인 우주선 띄운다', \"대니구, 탈모 막으려 '이 밥' 챙겨 먹는다… 실제 효과 있을까?\", \"[뉴스라이더] 의료사고특례법 속도...의사 달랠까? 환자단체는 '반발'\", '인생의 졸업, 그리고 요양', '[사이테크+] \"무리 사냥하는 청새치, 서로 다치지 않게 몸 색깔 변화로 신호\"', '[정치쇼] 설훈 \"오늘 탈당, 이재명에 마지막으로 사퇴하라 했지만…\"', '아마존 산불 270% 증가…원인은 엘니뇨와 기후변화 [여기는 남미]', 'HBM 먼저 치고 나온 마이크론, 조용히 웃는 이 종목들 [신인규의 이슈레이더]', '자사주 소각 13.7%…\"밸류업, 갈 길 멀다\"[이슈N전략]', \"'화려하고 독특한 이동통신 전시회' 이틀째 맞은 MWC\", '정계 은퇴 선언한 모리슨 전 호주 총리', '폴란드 외무장관과 회담하는 美 블링컨', '한총리, 취임 10주년 이두익 백령병원장에 손편지 감사 인사'] 32\n"
     ]
    }
   ],
   "source": [
    "# *****파싱:\n",
    "# BeautifulSoup 객체를 생성하려면 HTML 또는 XML 문자열과 \n",
    "# 파서를 전달해야 합니다. 일반적으로 'html.parser'를 사용합니다.\n",
    "# 파서 = 데이터를 분석하는 해독기\n",
    "# 사이트 url을 html_doc변수에 담아서 선언\n",
    "# 사이트 주소를 요청하는 라이브러리\n",
    "\n",
    "# 1. 라이브러리 호출\n",
    "import urllib.request as req\n",
    "from bs4 import BeautifulSoup\n",
    "\n",
    "# 2. 원하는 url 주소 담아서 열리는지 확인\n",
    "url = \"http://media.daum.net\"\n",
    "# 위 주소를 열어봐서(다음 서버에 정보요청) 잘 열리는 경우에만 정보열람\n",
    "res = req.urlopen(url)\n",
    "source = res.read()\n",
    "\n",
    "# 3. 한글깨짐 방지\n",
    "# 한글을 지원하는 유니코드입니다. (한글깨짐 방지 ^^)\n",
    "source = source.decode('utf-8')\n",
    "\n",
    "# 4. 데이터 해석 (parsing)\n",
    "# BeautifulSoup에서 본 사이트는 html문서라는 것을 알려줌\n",
    "html = BeautifulSoup(source, 'html.parser')\n",
    "# ***파악한 패턴을 적용하여 원하는 정보를 atags 변수에 저장 합니다.\n",
    "atags = html.select('a[class=link_txt]')\n",
    "\n",
    "# 일단 결과를 테스트 출력\n",
    "# atags 변수에 원하는 데이터가 있음을 확인\n",
    "# print(atags, len(atags))\n",
    "\n",
    "\n",
    "# 뉴스 내용만 수집하려면?\n",
    "# result_data 변수에 빈 리스트 자료구조를 선언 (문자열 데이터 만을 추출하면 된다.)\n",
    "result_data = []\n",
    "\n",
    "cnt = 0 # 총 뉴스 헤드라인의 개수도 세고싶어서 cnt 변수 선언\n",
    "# 크롤링한 전체 데이터에서 개별 데이터 호출\n",
    "# for문으로 크롤링 데이터 셋에서 개별문장 하나씩 호출\n",
    "for ii in atags:\n",
    "    cnt += 1\n",
    "    # 데이터를 문자열로 변환 (전체 문장에서 문자열 데이터만 추출함)\n",
    "    atag_str = str(ii.string)\n",
    "    # 걸러진 문자열 데이터를 준비한 리스트 자료구조에 담습니다\n",
    "    result_data.append(atag_str.strip()) # 문장좌우에 불필요한 여백은 strip으로 제거\n",
    "\n",
    "print(result_data, cnt)\n"
   ]
  },
  {
   "cell_type": "code",
   "execution_count": 6,
   "metadata": {},
   "outputs": [
    {
     "name": "stdout",
     "output_type": "stream",
     "text": [
      "저희 결과는\n",
      "['한의사들 양의계 특권의식에 빠져 경거망동', '오늘이 제일 싸네…일만에 만원 뚫은 비트코인', '나발니 시신 인도 도운 변호사 구금됐다 풀려났다', '학부모 게임 이해도 높을수록 자녀도 과몰입 경향 낮아', '[사이테크+] 무리 사냥하는 청새치 서로 다치지 않게 몸 색깔 변화로 신호', '방사청 현대중공업 입찰 참가 자격 유지', '정년 앞두고 후회 많은데 은퇴 우울증 올까봐 걱정[마음상담소]', '尹 외교 주도권마저 잃을 건가 미국이야말로 국익 앞세운다', '아마존 산불 증가…원인은 엘니뇨와 기후변화 [여기는 남미]', '자사주 소각 …밸류업 갈 길 멀다[이슈전략]', '양향자 이준석 출마 지역 청년 정체성 담은 반도체 벨트로[한판승부]', '먼저 치고 나온 마이크론 조용히 웃는 이 종목들 [신인규의 이슈레이더]', '비만치료제 우리도 만든다…하루만에 주가 폭등', '사직서 낸 병역 미필 전공의…병무청 “퇴직 처리시 내년 월 입영”', '[영상] “망한 공교육 되돌릴 수 있는 건 진보 아닌 보수”', '“결혼은 상호 존중으로 인간 존엄성·가치 지키는 과정”', '“美유권자 정치적 극단주의가 가장 큰 걱정”바이든에 유리할까', '[내일날씨] 충청·남부 비나 눈…밤부터 기온 뚝', '주만에 체중 감량… 비만치료제 개발 경쟁 가속화', '억 인도인 열망을 우주로…인도 내년 유인 우주선 띄운다', '대니구 탈모 막으려 이 밥 챙겨 먹는다… 실제 효과 있을까', '[뉴스라이더] 의료사고특례법 속도의사 달랠까 환자단체는 반발', '인생의 졸업 그리고 요양', '[사이테크+] 무리 사냥하는 청새치 서로 다치지 않게 몸 색깔 변화로 신호', '[정치쇼] 설훈 오늘 탈당 이재명에 마지막으로 사퇴하라 했지만…', '아마존 산불 증가…원인은 엘니뇨와 기후변화 [여기는 남미]', '먼저 치고 나온 마이크론 조용히 웃는 이 종목들 [신인규의 이슈레이더]', '자사주 소각 …밸류업 갈 길 멀다[이슈전략]', '화려하고 독특한 이동통신 전시회 이틀째 맞은', '정계 은퇴 선언한 모리슨 전 호주 총리', '폴란드 외무장관과 회담하는 美 블링컨', '한총리 취임 주년 이두익 백령병원장에 손편지 감사 인사']\n"
     ]
    }
   ],
   "source": [
    "# 텍스트 전처리\n",
    "# 뉴스 데이터 자체는 불필요한 특수기호, 따옴표, 부적절한 띄어쓰기 등으로\n",
    "# 자연어 데이터가 일관성이 떨어진다.\n",
    "# 즉, 단어를 세서 키워드 분석 등의 자연어 처리 작업이 불가 하므로\n",
    "# 문자데이터를 전처리 하여 데이터 클리닝을 진행하여야 한다.\n",
    "\n",
    "\n",
    "# 텍스트 전처리 순서\n",
    "# 1. 텍스트 전처리 관련 (정규 표현식) 라이브러리 호출\n",
    "import re\n",
    "\n",
    "# 2. 텍스트 전처리 함수 만들기\n",
    "# 함수에서 입력값을 받아서 처리하겠다는 의미로 괄호안에 input_data라는 변수 선언\n",
    "def clean_text(ㅋㅋㅋ):\n",
    "    # 문장부호 제거기능 추가 (sub라는 명령어는 교체한다는 의미)\n",
    "    text_string_re1 = re.sub('[,.?!:\\'\\\";]', '', ㅋㅋㅋ)\n",
    "    # 특수문자 제거기능 추가\n",
    "    text_string_re2 = re.sub('[!@#$%^&*()]|[0-9]', '', text_string_re1)\n",
    "    # 영문 대,소문자 --> 영문 소문자로 통일 (소문자 변환 lower함수 사용)\n",
    "    text_string_re3 = text_string_re2.lower()\n",
    "    # 통일된 영문 데이터를 없애기\n",
    "    text_string_re4 = re.sub('[a-z]', '', text_string_re3)\n",
    "    # 불필요한 공백제거 \n",
    "    # (split함수 통해서 단어마다 별도의 데이터로 인식 후, 불필요한 여백제거)\n",
    "    text_string_re5 = ' '.join(text_string_re4.split())\n",
    "    return text_string_re5\n",
    "\n",
    "# 텍스트 함수 사용\n",
    "# 전처리 후 깨끗해진 단어 데이터를 넣을 리스트 자료형 데이터셋을 선언합니다.\n",
    "clean_text2 = []\n",
    "# 이전의 결과 셋에서 개별 데이터를 호출해서 \n",
    "# clean_text함수에 넣고 데이터 전처리\n",
    "for jj in result_data:\n",
    "    clean_text2.append(clean_text(jj))\n",
    "\n",
    "# clean_text2 = [clean_text(jj) for jj in result_data]\n",
    "\n",
    "print(\"저희 결과는\")\n",
    "print(clean_text2) \n",
    "\n",
    "# clean_text2관련 for문을 리스트 컴프리헨션. 즉, 1줄짜리\n",
    "# 리스트 안 for문으로 변환해 보세요.\n",
    "\n"
   ]
  },
  {
   "cell_type": "code",
   "execution_count": 7,
   "metadata": {},
   "outputs": [
    {
     "name": "stdout",
     "output_type": "stream",
     "text": [
      "{'한의사들': 1, '양의계': 1, '특권의식에': 1, '빠져': 1, '경거망동': 1, '오늘이': 1, '제일': 1, '싸네…일만에': 1, '만원': 1, '뚫은': 1, '비트코인': 1, '나발니': 1, '시신': 1, '인도': 1, '도운': 1, '변호사': 1, '구금됐다': 1, '풀려났다': 1, '학부모': 1, '게임': 1, '이해도': 1, '높을수록': 1, '자녀도': 1, '과몰입': 1, '경향': 1, '낮아': 1, '[사이테크+]': 2, '무리': 2, '사냥하는': 2, '청새치': 2, '서로': 2, '다치지': 2, '않게': 2, '몸': 2, '색깔': 2, '변화로': 2, '신호': 2, '방사청': 1, '현대중공업': 1, '입찰': 1, '참가': 1, '자격': 1, '유지': 1, '정년': 1, '앞두고': 1, '후회': 1, '많은데': 1, '은퇴': 2, '우울증': 1, '올까봐': 1, '걱정[마음상담소]': 1, '尹': 1, '외교': 1, '주도권마저': 1, '잃을': 1, '건가': 1, '미국이야말로': 1, '국익': 1, '앞세운다': 1, '아마존': 2, '산불': 2, '증가…원인은': 2, '엘니뇨와': 2, '기후변화': 2, '[여기는': 2, '남미]': 2, '자사주': 2, '소각': 2, '…밸류업': 2, '갈': 2, '길': 2, '멀다[이슈전략]': 2, '양향자': 1, '이준석': 1, '출마': 1, '지역': 1, '청년': 1, '정체성': 1, '담은': 1, '반도체': 1, '벨트로[한판승부]': 1, '먼저': 2, '치고': 2, '나온': 2, '마이크론': 2, '조용히': 2, '웃는': 2, '이': 3, '종목들': 2, '[신인규의': 2, '이슈레이더]': 2, '비만치료제': 2, '우리도': 1, '만든다…하루만에': 1, '주가': 1, '폭등': 1, '사직서': 1, '낸': 1, '병역': 1, '미필': 1, '전공의…병무청': 1, '“퇴직': 1, '처리시': 1, '내년': 2, '월': 1, '입영”': 1, '[영상]': 1, '“망한': 1, '공교육': 1, '되돌릴': 1, '수': 1, '있는': 1, '건': 1, '진보': 1, '아닌': 1, '보수”': 1, '“결혼은': 1, '상호': 1, '존중으로': 1, '인간': 1, '존엄성·가치': 1, '지키는': 1, '과정”': 1, '“美유권자': 1, '정치적': 1, '극단주의가': 1, '가장': 1, '큰': 1, '걱정”바이든에': 1, '유리할까': 1, '[내일날씨]': 1, '충청·남부': 1, '비나': 1, '눈…밤부터': 1, '기온': 1, '뚝': 1, '주만에': 1, '체중': 1, '감량…': 1, '개발': 1, '경쟁': 1, '가속화': 1, '억': 1, '인도인': 1, '열망을': 1, '우주로…인도': 1, '유인': 1, '우주선': 1, '띄운다': 1, '대니구': 1, '탈모': 1, '막으려': 1, '밥': 1, '챙겨': 1, '먹는다…': 1, '실제': 1, '효과': 1, '있을까': 1, '[뉴스라이더]': 1, '의료사고특례법': 1, '속도의사': 1, '달랠까': 1, '환자단체는': 1, '반발': 1, '인생의': 1, '졸업': 1, '그리고': 1, '요양': 1, '[정치쇼]': 1, '설훈': 1, '오늘': 1, '탈당': 1, '이재명에': 1, '마지막으로': 1, '사퇴하라': 1, '했지만…': 1, '화려하고': 1, '독특한': 1, '이동통신': 1, '전시회': 1, '이틀째': 1, '맞은': 1, '정계': 1, '선언한': 1, '모리슨': 1, '전': 1, '호주': 1, '총리': 1, '폴란드': 1, '외무장관과': 1, '회담하는': 1, '美': 1, '블링컨': 1, '한총리': 1, '취임': 1, '주년': 1, '이두익': 1, '백령병원장에': 1, '손편지': 1, '감사': 1, '인사': 1}\n"
     ]
    }
   ],
   "source": [
    "# 단어의 빈도파악 (단어 수 세기)\n",
    "\n",
    "# 단어 수 셀 때 딕셔너리 자료구조가 필요하다. \n",
    "# 왜? key와 value로 단어와 단어 개수를 표시해야 하므로\n",
    "word_count = {}\n",
    "\n",
    "# 단어 수 셀 때 주의사항: \n",
    "# 각 문장안에 단어가 있으므로 2중 for문 구조가 필요\n",
    "# 바깥 for문이 개별 문장이고, \n",
    "# 안쪽 for문이 그 문장 안에 단어이다.\n",
    "\n",
    "#  전처리 데이터셋 에서 text라는 이름으로 문장 하나씩 끄집어 냄\n",
    "for text in clean_text2:\n",
    "    # 끄집어낸 문장에서 단어 하나씩 추출\n",
    "    # split함수가 없으면 단어의 글자로 전부 세버린다. split을 써야\n",
    "    # 문장 안에서 단어로 인식 가능 \n",
    "    for word in text.split(): \n",
    "        # 딕셔너리 자료구조에서 단어를 key값으로 놓고\n",
    "        # get함수를 이용해서 같은 데이터가 들올 때마다 1씩 증가\n",
    "        word_count[word] = word_count.get(word, 0) + 1\n",
    "\n",
    "print(word_count)"
   ]
  },
  {
   "cell_type": "code",
   "execution_count": 8,
   "metadata": {},
   "outputs": [
    {
     "name": "stdout",
     "output_type": "stream",
     "text": [
      "무리 -> 2\n",
      "사냥하는 -> 2\n",
      "청새치 -> 2\n",
      "서로 -> 2\n",
      "다치지 -> 2\n",
      "않게 -> 2\n",
      "색깔 -> 2\n",
      "변화로 -> 2\n",
      "신호 -> 2\n",
      "은퇴 -> 2\n",
      "아마존 -> 2\n",
      "산불 -> 2\n",
      "엘니뇨와 -> 2\n",
      "기후변화 -> 2\n",
      "[여기는 -> 2\n",
      "남미] -> 2\n",
      "자사주 -> 2\n",
      "소각 -> 2\n",
      "…밸류업 -> 2\n",
      "먼저 -> 2\n",
      "치고 -> 2\n",
      "나온 -> 2\n",
      "마이크론 -> 2\n",
      "조용히 -> 2\n",
      "웃는 -> 2\n",
      "종목들 -> 2\n",
      "내년 -> 2\n",
      "{'무리': 2, '사냥하는': 2, '청새치': 2, '서로': 2, '다치지': 2, '않게': 2, '색깔': 2, '변화로': 2, '신호': 2, '은퇴': 2, '아마존': 2, '산불': 2, '엘니뇨와': 2, '기후변화': 2, '[여기는': 2, '남미]': 2, '자사주': 2, '소각': 2, '…밸류업': 2, '먼저': 2, '치고': 2, '나온': 2, '마이크론': 2, '조용히': 2, '웃는': 2, '종목들': 2, '내년': 2}\n"
     ]
    }
   ],
   "source": [
    "# 단어 전처리 (글자데이터에 의미부여)\n",
    "# 2회이상 출현단어 + 2~4자 단어만 선정\n",
    "\n",
    "new_word_count = {}\n",
    "# 딕셔너리 구조의 items함수 이용해서 단어의 빈도수와 단어정보를\n",
    "# 동시에 접근 하였고 개별 원소에서 변수 2개 설정 (word, cnt)\n",
    "for word, cnt in word_count.items():\n",
    "    # 2회 이상출현 & 단어 글자 수 2~4글자 사이\n",
    "    if cnt >=2 and len(word) >= 2 and len(word) <=4:\n",
    "        print(word, \"->\", word_count[word])\n",
    "        # 딕셔너리 자료구조에서 단어를 key값으로 놓고\n",
    "        # get함수를 이용해서 같은 데이터가 들올 때마다 1씩 증가\n",
    "        new_word_count[word] = new_word_count.get(word, cnt)\n",
    "\n",
    "print(new_word_count)"
   ]
  },
  {
   "cell_type": "code",
   "execution_count": 9,
   "metadata": {},
   "outputs": [
    {
     "name": "stdout",
     "output_type": "stream",
     "text": [
      "[('무리', 2), ('사냥하는', 2), ('청새치', 2), ('서로', 2), ('다치지', 2)]\n"
     ]
    }
   ],
   "source": [
    "# 통계자료 작성\n",
    "\n",
    "from collections import Counter \n",
    "# 상위 몇위 등의 통계를 만드는 Counter라는 라이브러리에 데이터 입력\n",
    "count_result = Counter(new_word_count)\n",
    "# 단어 빈도 수 기준, 상위 5단어를 뽑아서 top5_word 변수에 저장\n",
    "top5_word = count_result.most_common(5)\n",
    "print(top5_word)\n",
    "\n",
    "\n"
   ]
  },
  {
   "cell_type": "code",
   "execution_count": 32,
   "metadata": {},
   "outputs": [
    {
     "name": "stdout",
     "output_type": "stream",
     "text": [
      "['이재명', '임시', '병원', '소각', '최대'] [3, 2, 2, 2, 2]\n"
     ]
    },
    {
     "name": "stderr",
     "output_type": "stream",
     "text": [
      "c:\\Users\\EZEN-211T\\anaconda3\\Lib\\site-packages\\IPython\\core\\pylabtools.py:152: UserWarning: Glyph 51060 (\\N{HANGUL SYLLABLE I}) missing from current font.\n",
      "  fig.canvas.print_figure(bytes_io, **kw)\n",
      "c:\\Users\\EZEN-211T\\anaconda3\\Lib\\site-packages\\IPython\\core\\pylabtools.py:152: UserWarning: Glyph 51116 (\\N{HANGUL SYLLABLE JAE}) missing from current font.\n",
      "  fig.canvas.print_figure(bytes_io, **kw)\n",
      "c:\\Users\\EZEN-211T\\anaconda3\\Lib\\site-packages\\IPython\\core\\pylabtools.py:152: UserWarning: Glyph 47749 (\\N{HANGUL SYLLABLE MYEONG}) missing from current font.\n",
      "  fig.canvas.print_figure(bytes_io, **kw)\n",
      "c:\\Users\\EZEN-211T\\anaconda3\\Lib\\site-packages\\IPython\\core\\pylabtools.py:152: UserWarning: Glyph 51076 (\\N{HANGUL SYLLABLE IM}) missing from current font.\n",
      "  fig.canvas.print_figure(bytes_io, **kw)\n",
      "c:\\Users\\EZEN-211T\\anaconda3\\Lib\\site-packages\\IPython\\core\\pylabtools.py:152: UserWarning: Glyph 49884 (\\N{HANGUL SYLLABLE SI}) missing from current font.\n",
      "  fig.canvas.print_figure(bytes_io, **kw)\n",
      "c:\\Users\\EZEN-211T\\anaconda3\\Lib\\site-packages\\IPython\\core\\pylabtools.py:152: UserWarning: Glyph 48337 (\\N{HANGUL SYLLABLE BYEONG}) missing from current font.\n",
      "  fig.canvas.print_figure(bytes_io, **kw)\n",
      "c:\\Users\\EZEN-211T\\anaconda3\\Lib\\site-packages\\IPython\\core\\pylabtools.py:152: UserWarning: Glyph 50896 (\\N{HANGUL SYLLABLE WEON}) missing from current font.\n",
      "  fig.canvas.print_figure(bytes_io, **kw)\n",
      "c:\\Users\\EZEN-211T\\anaconda3\\Lib\\site-packages\\IPython\\core\\pylabtools.py:152: UserWarning: Glyph 49548 (\\N{HANGUL SYLLABLE SO}) missing from current font.\n",
      "  fig.canvas.print_figure(bytes_io, **kw)\n",
      "c:\\Users\\EZEN-211T\\anaconda3\\Lib\\site-packages\\IPython\\core\\pylabtools.py:152: UserWarning: Glyph 44033 (\\N{HANGUL SYLLABLE GAG}) missing from current font.\n",
      "  fig.canvas.print_figure(bytes_io, **kw)\n",
      "c:\\Users\\EZEN-211T\\anaconda3\\Lib\\site-packages\\IPython\\core\\pylabtools.py:152: UserWarning: Glyph 52572 (\\N{HANGUL SYLLABLE COE}) missing from current font.\n",
      "  fig.canvas.print_figure(bytes_io, **kw)\n",
      "c:\\Users\\EZEN-211T\\anaconda3\\Lib\\site-packages\\IPython\\core\\pylabtools.py:152: UserWarning: Glyph 45824 (\\N{HANGUL SYLLABLE DAE}) missing from current font.\n",
      "  fig.canvas.print_figure(bytes_io, **kw)\n"
     ]
    },
    {
     "data": {
      "image/png": "[encoded data removed]",
      "text/plain": [
       "<Figure size 640x480 with 1 Axes>"
      ]
     },
     "metadata": {},
     "output_type": "display_data"
    },
    {
     "data": {
      "image/png": "[encoded data removed]",
      "text/plain": [
       "<Figure size 640x480 with 1 Axes>"
      ]
     },
     "metadata": {},
     "output_type": "display_data"
    }
   ],
   "source": [
    "# 그래프 그려보기 ^^\n",
    "# 그래프는 데이터 (x축) 결과값 (y축)으로 되어 있습니다.\n",
    "# 그래서 단어와 빈도수를 쪼개서 별도의 데이터로 저장해야 합니다.\n",
    "\n",
    "# 그래프의 x축은 키워드, y축은 키워드의 빈도수\n",
    "words = []\n",
    "counts = []\n",
    "\n",
    "for word, count in top5_word:\n",
    "    words.append(word)\n",
    "    counts.append(count)\n",
    "\n",
    "print(words, counts)\n",
    "\n",
    "# 그래프 그리는 라이브러리 호출\n",
    "import matplotlib.pyplot as plt\n",
    "\n",
    "# 선그래프 그리기\n",
    "plt.plot(words, counts)\n",
    "plt.show()\n",
    "\n",
    "# 막대그래프 그리기\n",
    "plt.bar(words, counts)\n",
    "plt.show()"
   ]
  },
  {
   "cell_type": "code",
   "execution_count": 10,
   "metadata": {},
   "outputs": [
    {
     "name": "stdout",
     "output_type": "stream",
     "text": [
      "이미지 파일 저장완료 : screenshot_2020_1.png\n",
      "이미지 파일 저장완료 : screenshot_2020_2.png\n",
      "이미지 파일 저장완료 : screenshot_2020_3.png\n",
      "이미지 파일 저장완료 : screenshot_2020_4.png\n",
      "이미지 파일 저장완료 : screenshot_2020_5.png\n",
      "이미지 파일 저장완료 : screenshot_2021_1.png\n",
      "이미지 파일 저장완료 : screenshot_2021_2.png\n",
      "이미지 파일 저장완료 : screenshot_2021_3.png\n",
      "이미지 파일 저장완료 : screenshot_2021_4.png\n",
      "이미지 파일 저장완료 : screenshot_2021_5.png\n",
      "이미지 파일 저장완료 : screenshot_2022_1.png\n",
      "이미지 파일 저장완료 : screenshot_2022_2.png\n",
      "이미지 파일 저장완료 : screenshot_2022_3.png\n",
      "이미지 파일 저장완료 : screenshot_2022_4.png\n",
      "이미지 파일 저장완료 : screenshot_2022_5.png\n",
      "이미지 파일 저장완료 : screenshot_2023_1.png\n",
      "이미지 파일 저장완료 : screenshot_2023_2.png\n",
      "이미지 파일 저장완료 : screenshot_2023_3.png\n",
      "이미지 파일 저장완료 : screenshot_2023_4.png\n",
      "이미지 파일 저장완료 : screenshot_2023_5.png\n"
     ]
    }
   ],
   "source": [
    "\n",
    "\n",
    "# import requests\n",
    "# from bs4 import BeautifulSoup\n",
    "from selenium import webdriver\n",
    "from selenium.webdriver.common.by import By\n",
    "from selenium.webdriver.chrome.options import Options\n",
    "\n",
    "# (내가 노가다 시) 업무 순서\n",
    "# 1. 검색창에 가서 연도별로 '20xx년영화순위' 라고 입력한다\n",
    "# 2. 스샷들이 보이면 마우스 우클릭 \n",
    "# 3. 우클릭 하여 저장한 이미지 파일에 \n",
    "#     연도와 순위로 파일 이름 지어주기\n",
    "\n",
    "# 주기적으로 웹사이트 구조가 바뀌므로 크롤링은 같은 구조로 되지 않는다.\n",
    "# 각 연도의 상위 5위 이므로 2중 for문을 생각해 낼 수 있다.\n",
    "# 바깥 for문은 각 연도별 영화검색어\n",
    "# 안쪽 for문은 1~5위 까지 5개의 영화 썸네일\n",
    "# 문자열 데이터 처리의 응용도 2번 들어감 (url입력 & 썸네일 파일 이름짓기)\n",
    "\n",
    "\n",
    "# 2015년부터 2019년까지의 각 연도에 대해 반복합니다.\n",
    "for year in range(2020,2024):\n",
    "\n",
    "# 해당 연도를 이용하여 다음(Daum) 검색 페이지의 URL을 생성합니다.\n",
    "    url = \"https://search.daum.net/search?nil_suggest=btn&w=tot&DA=SBC&q={}%EB%85%84%EC%98%81%ED%99%94%EC%88%9C%EC%9C%84\".format(year)\n",
    "\n",
    "    # beautiful soup말고 selenium으로 라이브러리 교체\n",
    "    # Selenium을 사용하여 웹사이트 창을 띄웁니다.\n",
    "    chrome_options = Options()\n",
    "    chrome_options.add_argument(\"--headless\")\n",
    "    # 구글 크롬을 엽니다.  \n",
    "    driver = webdriver.Chrome(options=chrome_options)\n",
    "\n",
    "    driver.get(url)\n",
    "    #  selenium은 사용법이 살짝 다르다\n",
    "    #  CSS_SELECTOR 기준, \"thumb_img\" 로 이미지 파일을 검색합니다. (사용법 차이)\n",
    "    images = driver.find_elements(By.CSS_SELECTOR, \"img.thumb_img\")\n",
    "\n",
    "    # for문을 사용해서 아까와 동일하게 파일 이름을 정합니다.\n",
    "    for (idx, image) in enumerate(images):\n",
    "        # 연도와 순위를 개별 이미지 파일에 저장합니다.\n",
    "        screenshot_filename = \"screenshot_{}_{}.png\".format(year, idx + 1 )\n",
    "        image.screenshot(screenshot_filename)\n",
    "        print(\"이미지 파일 저장완료 :\", screenshot_filename)\n",
    "        \n",
    "        # 상위 5개 이미지만 다운로드하고 반복을 종료합니다.\n",
    "        if idx >= 4:\n",
    "            break"
   ]
  },
  {
   "cell_type": "code",
   "execution_count": 12,
   "metadata": {},
   "outputs": [],
   "source": [
    "\n",
    "from selenium import webdriver\n",
    "from selenium.webdriver.common.by import By\n",
    "from selenium.webdriver.chrome.service import Service as ChromeService\n",
    "from selenium.webdriver.common.keys import Keys\n",
    "\n",
    "# 크롬 드라이버 경로 설정\n",
    "chrome_path = \"/path/to/chromedriver\"  # 본인의 크롬 드라이버 경로로 변경\n",
    "\n",
    "# 크롬 드라이버 실행\n",
    "driver = webdriver.Chrome(options=chrome_options)\n",
    "\n",
    "# Daum 검색 결과 페이지로 이동\n",
    "url = \"https://search.daum.net/search?nil_suggest=btn&w=tot&DA=SBC&q=2017%EB%85%84%EC%98%81%ED%99%94%EC%88%9C%EC%9C%84\"\n",
    "driver.get(url)\n",
    "\n",
    "# 이미지 썸네일 요소 찾기\n",
    "thumbnails = driver.find_elements(By.CSS_SELECTOR, \"img.thumb\")\n",
    "\n",
    "# 이미지 썸네일 URL 출력 또는 다운로드 등의 작업 수행\n",
    "for thumbnail in thumbnails:\n",
    "    thumbnail_url = thumbnail.get_attribute(\"src\")\n",
    "    print(thumbnail_url)\n",
    "\n",
    "# 브라우저 닫기\n",
    "driver.quit()\n"
   ]
  },
  {
   "cell_type": "code",
   "execution_count": null,
   "metadata": {},
   "outputs": [],
   "source": []
  },
  {
   "cell_type": "code",
   "execution_count": null,
   "metadata": {},
   "outputs": [],
   "source": []
  },
  {
   "cell_type": "code",
   "execution_count": null,
   "metadata": {},
   "outputs": [],
   "source": []
  }
 ],
 "metadata": {
  "kernelspec": {
   "display_name": "base",
   "language": "python",
   "name": "python3"
  },
  "language_info": {
   "codemirror_mode": {
    "name": "ipython",
    "version": 3
   },
   "file_extension": ".py",
   "mimetype": "text/x-python",
   "name": "python",
   "nbconvert_exporter": "python",
   "pygments_lexer": "ipython3",
   "version": "3.11.5"
  }
 },
 "nbformat": 4,
 "nbformat_minor": 2
}
